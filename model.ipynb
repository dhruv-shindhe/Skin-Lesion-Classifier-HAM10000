{
 "cells": [
  {
   "cell_type": "code",
   "execution_count": 1,
   "metadata": {},
   "outputs": [],
   "source": [
    "import os\n",
    "import pandas as pd\n",
    "import numpy as np\n",
    "from sklearn.model_selection import train_test_split\n",
    "from PIL import Image\n",
    "import shutil\n",
    "import cv2\n",
    "import matplotlib.pyplot as plt"
   ]
  },
  {
   "cell_type": "code",
   "execution_count": 47,
   "metadata": {},
   "outputs": [],
   "source": [
    "from keras.utils import to_categorical\n",
    "from keras.models import Sequential\n",
    "from keras.optimizers import Adam\n",
    "from keras.layers.convolutional import Conv2D,MaxPooling2D\n",
    "from keras.layers import Dropout,Flatten,Dense"
   ]
  },
  {
   "cell_type": "code",
   "execution_count": 2,
   "metadata": {},
   "outputs": [],
   "source": [
    "classes= ['nv','mel','bkl','bcc','akiec','vasc','df']\n",
    "base_dir=\"dataSet\"\n",
    "train_dir=\"train_dir\"\n",
    "test_dir=\"test_dir\""
   ]
  },
  {
   "cell_type": "code",
   "execution_count": 3,
   "metadata": {},
   "outputs": [],
   "source": [
    "x_train=[]\n",
    "y_train=[]\n",
    "\n",
    "for i in classes:\n",
    "    path=os.path.join(os.getcwd(),base_dir,train_dir,i)\n",
    "    f=os.listdir(path)\n",
    "    for imgs in f:\n",
    "        show_img=cv2.imread(os.path.join(path,imgs))\n",
    "        show_img=cv2.resize(show_img,(28,28))\n",
    "        x_train.append(show_img)\n",
    "        y_train.append(i)\n",
    "        "
   ]
  },
  {
   "cell_type": "code",
   "execution_count": 4,
   "metadata": {},
   "outputs": [],
   "source": [
    "x_train_n=np.array(x_train)\n",
    "y_train_n=np.array(y_train)"
   ]
  },
  {
   "cell_type": "code",
   "execution_count": 5,
   "metadata": {},
   "outputs": [
    {
     "name": "stdout",
     "output_type": "stream",
     "text": [
      "(9013, 28, 28, 3)\n",
      "(9013,)\n"
     ]
    }
   ],
   "source": [
    "print(x_train_n.shape)\n",
    "print(y_train_n.shape)\n"
   ]
  },
  {
   "cell_type": "code",
   "execution_count": 53,
   "metadata": {},
   "outputs": [],
   "source": [
    "x_test=[]\n",
    "y_test=[]\n",
    "\n",
    "for i in classes:\n",
    "    path=os.path.join(os.getcwd(),base_dir,test_dir,i)\n",
    "    f=os.listdir(path)\n",
    "    for imgs in f:\n",
    "        show_img=cv2.imread(os.path.join(path,imgs))\n",
    "        show_img=cv2.resize(show_img,(28,28),interpolation=cv2.INTER_AREA)\n",
    "        x_test.append(show_img)\n",
    "        y_test.append(i)"
   ]
  },
  {
   "cell_type": "code",
   "execution_count": 54,
   "metadata": {},
   "outputs": [],
   "source": [
    "x_test_n=np.array(x_test)\n",
    "y_test_n=np.array(y_test)"
   ]
  },
  {
   "cell_type": "code",
   "execution_count": 55,
   "metadata": {},
   "outputs": [
    {
     "name": "stdout",
     "output_type": "stream",
     "text": [
      "(1002, 28, 28, 3)\n",
      "(1002,)\n"
     ]
    }
   ],
   "source": [
    "print(x_test_n.shape)\n",
    "print(y_test_n.shape)"
   ]
  },
  {
   "cell_type": "code",
   "execution_count": 56,
   "metadata": {},
   "outputs": [],
   "source": [
    "y_test_n =pd.get_dummies(y_test_n)\n",
    "y_train_n =pd.get_dummies(y_train_n)"
   ]
  },
  {
   "cell_type": "code",
   "execution_count": 57,
   "metadata": {},
   "outputs": [
    {
     "name": "stdout",
     "output_type": "stream",
     "text": [
      "(1002, 7)\n",
      "(9013, 7)\n"
     ]
    }
   ],
   "source": [
    "print(y_test_n.shape)\n",
    "print(y_train_n.shape)"
   ]
  },
  {
   "cell_type": "code",
   "execution_count": 58,
   "metadata": {},
   "outputs": [],
   "source": [
    "def preprocess(img):\n",
    "    img = img/255\n",
    "    return img\n",
    "\n",
    "x_test_n = np.array(list(map(preprocess, x_test_n)))\n",
    "x_train_n = np.array(list(map(preprocess, x_train_n)))"
   ]
  },
  {
   "cell_type": "code",
   "execution_count": 62,
   "metadata": {},
   "outputs": [
    {
     "name": "stdout",
     "output_type": "stream",
     "text": [
      "_________________________________________________________________\n",
      "Layer (type)                 Output Shape              Param #   \n",
      "=================================================================\n",
      "conv2d_13 (Conv2D)           (None, 26, 26, 32)        896       \n",
      "_________________________________________________________________\n",
      "max_pooling2d_10 (MaxPooling (None, 13, 13, 32)        0         \n",
      "_________________________________________________________________\n",
      "conv2d_14 (Conv2D)           (None, 11, 11, 64)        18496     \n",
      "_________________________________________________________________\n",
      "max_pooling2d_11 (MaxPooling (None, 5, 5, 64)          0         \n",
      "_________________________________________________________________\n",
      "conv2d_15 (Conv2D)           (None, 3, 3, 128)         73856     \n",
      "_________________________________________________________________\n",
      "max_pooling2d_12 (MaxPooling (None, 1, 1, 128)         0         \n",
      "_________________________________________________________________\n",
      "flatten_4 (Flatten)          (None, 128)               0         \n",
      "_________________________________________________________________\n",
      "dense_5 (Dense)              (None, 512)               66048     \n",
      "_________________________________________________________________\n",
      "dense_6 (Dense)              (None, 7)                 3591      \n",
      "=================================================================\n",
      "Total params: 162,887\n",
      "Trainable params: 162,887\n",
      "Non-trainable params: 0\n",
      "_________________________________________________________________\n",
      "None\n"
     ]
    }
   ],
   "source": [
    "model = Sequential()\n",
    "model.add(Conv2D(32,(3,3),activation = 'relu', input_shape=(28,28,3)))\n",
    "model.add(MaxPooling2D(2,2))\n",
    "model.add(Conv2D(64,(3,3),activation = 'relu'))\n",
    "model.add(MaxPooling2D(2,2))\n",
    "model.add(Conv2D(128,(3,3),activation = 'relu'))\n",
    "model.add(MaxPooling2D(2,2))\n",
    "\n",
    "model.add(Flatten())\n",
    "\n",
    "model.add(Dense(512,activation='sigmoid'))\n",
    "model.add(Dense(7,activation='softmax'))\n",
    "\n",
    "print(model.summary())"
   ]
  },
  {
   "cell_type": "code",
   "execution_count": 63,
   "metadata": {},
   "outputs": [
    {
     "name": "stdout",
     "output_type": "stream",
     "text": [
      "Train on 9013 samples, validate on 1002 samples\n",
      "Epoch 1/20\n",
      "9013/9013 [==============================] - 11s 1ms/step - loss: 1.0800 - acc: 0.6590 - val_loss: 0.9593 - val_acc: 0.6697\n",
      "Epoch 2/20\n",
      "9013/9013 [==============================] - 9s 965us/step - loss: 0.9430 - acc: 0.6781 - val_loss: 0.9863 - val_acc: 0.6377\n",
      "Epoch 3/20\n",
      "9013/9013 [==============================] - 8s 923us/step - loss: 0.9143 - acc: 0.6780 - val_loss: 0.9620 - val_acc: 0.6367\n",
      "Epoch 4/20\n",
      "9013/9013 [==============================] - 9s 1ms/step - loss: 0.8940 - acc: 0.6816 - val_loss: 0.8888 - val_acc: 0.6786\n",
      "Epoch 5/20\n",
      "9013/9013 [==============================] - 9s 984us/step - loss: 0.8847 - acc: 0.6808 - val_loss: 0.9580 - val_acc: 0.6856\n",
      "Epoch 6/20\n",
      "9013/9013 [==============================] - 8s 929us/step - loss: 0.8580 - acc: 0.6888 - val_loss: 0.8498 - val_acc: 0.6966\n",
      "Epoch 7/20\n",
      "9013/9013 [==============================] - 9s 992us/step - loss: 0.8487 - acc: 0.6894 - val_loss: 0.9153 - val_acc: 0.6776\n",
      "Epoch 8/20\n",
      "9013/9013 [==============================] - 9s 979us/step - loss: 0.8258 - acc: 0.6979 - val_loss: 0.9322 - val_acc: 0.6856\n",
      "Epoch 9/20\n",
      "9013/9013 [==============================] - 9s 964us/step - loss: 0.8095 - acc: 0.7019 - val_loss: 0.9733 - val_acc: 0.6816\n",
      "Epoch 10/20\n",
      "9013/9013 [==============================] - 9s 973us/step - loss: 0.7904 - acc: 0.7066 - val_loss: 0.9540 - val_acc: 0.6437\n",
      "Epoch 11/20\n",
      "9013/9013 [==============================] - 9s 968us/step - loss: 0.7793 - acc: 0.7110 - val_loss: 0.8575 - val_acc: 0.6657\n",
      "Epoch 12/20\n",
      "9013/9013 [==============================] - 9s 974us/step - loss: 0.7604 - acc: 0.7180 - val_loss: 0.9055 - val_acc: 0.6886\n",
      "Epoch 13/20\n",
      "9013/9013 [==============================] - 9s 955us/step - loss: 0.7425 - acc: 0.7257 - val_loss: 0.8774 - val_acc: 0.6926\n",
      "Epoch 14/20\n",
      "9013/9013 [==============================] - 9s 961us/step - loss: 0.7371 - acc: 0.7286 - val_loss: 0.7997 - val_acc: 0.6866\n",
      "Epoch 15/20\n",
      "9013/9013 [==============================] - 9s 951us/step - loss: 0.7207 - acc: 0.7336 - val_loss: 0.8054 - val_acc: 0.7166\n",
      "Epoch 16/20\n",
      "9013/9013 [==============================] - 9s 946us/step - loss: 0.7161 - acc: 0.7344 - val_loss: 0.7751 - val_acc: 0.7246\n",
      "Epoch 17/20\n",
      "9013/9013 [==============================] - 8s 936us/step - loss: 0.6994 - acc: 0.7415 - val_loss: 0.7461 - val_acc: 0.7405\n",
      "Epoch 18/20\n",
      "9013/9013 [==============================] - 8s 934us/step - loss: 0.6869 - acc: 0.7423 - val_loss: 0.9077 - val_acc: 0.6697\n",
      "Epoch 19/20\n",
      "9013/9013 [==============================] - 8s 918us/step - loss: 0.6849 - acc: 0.7430 - val_loss: 0.8414 - val_acc: 0.6976\n",
      "Epoch 20/20\n",
      "9013/9013 [==============================] - 8s 839us/step - loss: 0.6765 - acc: 0.7511 - val_loss: 0.7049 - val_acc: 0.7445\n"
     ]
    }
   ],
   "source": [
    "model.compile(optimizer='rmsprop',loss='categorical_crossentropy',metrics=['accuracy'])\n",
    "history=model.fit(x=x_train_n,y=y_train_n,verbose=1,batch_size=128,epochs=20,shuffle='True',validation_data=(x_test_n,y_test_n))"
   ]
  },
  {
   "cell_type": "code",
   "execution_count": 67,
   "metadata": {},
   "outputs": [
    {
     "data": {
      "text/plain": [
       "<matplotlib.legend.Legend at 0x1e18dca5978>"
      ]
     },
     "execution_count": 67,
     "metadata": {},
     "output_type": "execute_result"
    },
    {
     "data": {
      "image/png": "[encoded data removed]",
      "text/plain": [
       "<Figure size 432x288 with 1 Axes>"
      ]
     },
     "metadata": {
      "needs_background": "light"
     },
     "output_type": "display_data"
    }
   ],
   "source": [
    "plt.plot(history.history['loss'])\n",
    "plt.plot(history.history['val_loss'])\n",
    "plt.title('loss')\n",
    "plt.xlabel('epochs')\n",
    "plt.legend(['training','validation'])"
   ]
  },
  {
   "cell_type": "code",
   "execution_count": 68,
   "metadata": {},
   "outputs": [
    {
     "data": {
      "text/plain": [
       "<matplotlib.legend.Legend at 0x1e18dd1fb38>"
      ]
     },
     "execution_count": 68,
     "metadata": {},
     "output_type": "execute_result"
    },
    {
     "data": {
      "image/png": "[encoded data removed]",
      "text/plain": [
       "<Figure size 432x288 with 1 Axes>"
      ]
     },
     "metadata": {
      "needs_background": "light"
     },
     "output_type": "display_data"
    }
   ],
   "source": [
    "plt.plot(history.history['acc'])\n",
    "plt.plot(history.history['val_acc'])\n",
    "plt.title('accuracy')\n",
    "plt.xlabel('epochs')\n",
    "plt.legend(['training','validation'])"
   ]
  },
  {
   "cell_type": "code",
   "execution_count": 71,
   "metadata": {},
   "outputs": [
    {
     "name": "stdout",
     "output_type": "stream",
     "text": [
      " test score: 0.7048806539790597 \n",
      "test accuracy: 0.7445109780439122\n"
     ]
    }
   ],
   "source": [
    "score=model.evaluate(x_test_n,y_test_n,verbose=0)\n",
    "print(\" test score: {} \".format(score[0]))\n",
    "print(\"test accuracy: {}\".format(score[1]))"
   ]
  },
  {
   "cell_type": "code",
   "execution_count": null,
   "metadata": {},
   "outputs": [],
   "source": []
  }
 ],
 "metadata": {
  "kernelspec": {
   "display_name": "Python 3",
   "language": "python",
   "name": "python3"
  },
  "language_info": {
   "codemirror_mode": {
    "name": "ipython",
    "version": 3
   },
   "file_extension": ".py",
   "mimetype": "text/x-python",
   "name": "python",
   "nbconvert_exporter": "python",
   "pygments_lexer": "ipython3",
   "version": "3.7.1"
  }
 },
 "nbformat": 4,
 "nbformat_minor": 2
}
